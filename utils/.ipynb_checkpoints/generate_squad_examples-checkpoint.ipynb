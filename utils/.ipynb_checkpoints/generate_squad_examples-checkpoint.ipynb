{
 "cells": [
  {
   "cell_type": "code",
   "execution_count": null,
   "metadata": {},
   "outputs": [],
   "source": [
    "import json\n",
    "import os\n",
    "import re\n",
    "import sys\n",
    "import uuid\n",
    "import prettytable\n",
    "import time\n",
    "import cProfile\n",
    "import re\n",
    "import pandas as pd\n",
    "import numpy as np\n",
    "from tqdm import tqdm"
   ]
  },
  {
   "cell_type": "code",
   "execution_count": null,
   "metadata": {},
   "outputs": [],
   "source": [
    "def generate_squad_examples(question, closest_docs_indices, metadata):\n",
    "    \"\"\"\n",
    "    Creates a SQuAD examples json object for a given for a given question using outputs of retriever and document database.\n",
    "    Parameters\n",
    "    ----------\n",
    "    question : [type]\n",
    "        [description]\n",
    "    closest_docs_indices : [type]\n",
    "        [description]\n",
    "    metadata : [type]\n",
    "        [description]\n",
    "    Returns\n",
    "    -------\n",
    "    squad_examples: list\n",
    "        [description]\n",
    "    Examples\n",
    "    --------\n",
    "    >>> from cdqa.utils.converter import generate_squad_examples\n",
    "    >>> squad_examples = generate_squad_examples(question='Since when does the the Excellence Program of BNP Paribas exist?',\n",
    "                                         closest_docs_indices=[788, 408, 2419],\n",
    "                                         metadata=df)\n",
    "    \"\"\"\n",
    "\n",
    "    squad_examples = []\n",
    "\n",
    "    metadata_sliced = metadata.loc[closest_docs_indices]\n",
    "\n",
    "    for index, row in tqdm(metadata.iterrows()):\n",
    "        print(type(row), row)\n",
    "        temp = {'title': row['title'],\n",
    "                'paragraphs': []}\n",
    "\n",
    "        \n",
    "        temp['paragraphs'].append({'context': row['paragraphs'],\n",
    "                                       'qas': [{'answers': [],\n",
    "                                                'question': question,\n",
    "                                                'id': str(uuid.uuid4())}]\n",
    "                                       })\n",
    "\n",
    "        squad_examples.append(temp)\n",
    "\n",
    "    return squad_examples"
   ]
  }
 ],
 "metadata": {
  "kernelspec": {
   "display_name": "Python 3",
   "language": "python",
   "name": "python3"
  },
  "language_info": {
   "codemirror_mode": {
    "name": "ipython",
    "version": 3
   },
   "file_extension": ".py",
   "mimetype": "text/x-python",
   "name": "python",
   "nbconvert_exporter": "python",
   "pygments_lexer": "ipython3",
   "version": "3.7.3"
  }
 },
 "nbformat": 4,
 "nbformat_minor": 2
}
